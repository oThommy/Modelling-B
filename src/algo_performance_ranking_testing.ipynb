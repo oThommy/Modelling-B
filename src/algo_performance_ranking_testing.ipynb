{
 "cells": [
  {
   "cell_type": "code",
   "execution_count": 1,
   "metadata": {},
   "outputs": [],
   "source": [
    "from integer_linear_problem import Ilp\n",
    "from config import Config\n",
    "import pandas as pd\n",
    "import numpy as np\n",
    "import math\n",
    "import scipy.stats as stats\n",
    "import matplotlib.pyplot as plt"
   ]
  },
  {
   "cell_type": "code",
   "execution_count": 2,
   "metadata": {},
   "outputs": [
    {
     "name": "stdout",
     "output_type": "stream",
     "text": [
      "standard deviation\n",
      "40.19820966916388\n",
      "8.536738552784767\n",
      "16.880738295371604\n",
      "8.571817413523844\n",
      "mean\n",
      "39.73\n",
      "18.977777777777778\n",
      "11.177777777777777\n",
      "18.83809523809524\n"
     ]
    }
   ],
   "source": [
    "ilp_small = Ilp.from_excel(Config().DATA_SMALL_PATH)\n",
    "ilp_large = Ilp.from_excel(Config().DATA_LARGE_PATH)\n",
    "\n",
    "def get_std(df: pd.DataFrame, filter_zero = True):\n",
    "    if filter_zero:\n",
    "        df = df[df != 0]\n",
    "\n",
    "    return df.stack().std()\n",
    "\n",
    "def get_mean(df: pd.DataFrame, filter_zero = True):\n",
    "    if filter_zero:\n",
    "        df = df[df != 0]\n",
    "    \n",
    "    return df.stack().mean()\n",
    "\n",
    "print('standard deviation')\n",
    "print(get_std(ilp_small.w_df, False))\n",
    "print(get_std(ilp_small.c_df))\n",
    "print(get_std(ilp_large.w_df, False))\n",
    "print(get_std(ilp_large.c_df))\n",
    "\n",
    "print('mean')\n",
    "print(get_mean(ilp_small.w_df, False))\n",
    "print(get_mean(ilp_small.c_df))\n",
    "print(get_mean(ilp_large.w_df, False))\n",
    "print(get_mean(ilp_large.c_df))\n",
    "\n"
   ]
  },
  {
   "cell_type": "code",
   "execution_count": 3,
   "metadata": {},
   "outputs": [
    {
     "name": "stdout",
     "output_type": "stream",
     "text": [
      "count    420.000000\n",
      "mean      19.152381\n",
      "std        8.523483\n",
      "min        4.000000\n",
      "25%       13.000000\n",
      "50%       18.000000\n",
      "75%       25.000000\n",
      "max       39.000000\n",
      "dtype: float64\n"
     ]
    }
   ],
   "source": [
    "ilp_small = Ilp.from_excel(Config().DATA_SMALL_PATH)\n",
    "ilp_large = Ilp.from_excel(Config().DATA_LARGE_PATH)\n",
    "\n",
    "\n",
    "c_small_ser = ilp_small.c_df.stack()\n",
    "c_small_ser = c_small_ser[c_small_ser != 0]\n",
    "c_large_ser = ilp_large.c_df.stack()\n",
    "c_large_ser = c_large_ser[c_large_ser != 0]\n",
    "\n",
    "c_small_ser = pd.concat([c_small_ser] * math.ceil(len(c_large_ser) / len(c_small_ser)))\n",
    "c_small_ser = c_small_ser[:len(c_large_ser)]\n",
    "\n",
    "c_ser = pd.concat([c_small_ser, c_large_ser])\n",
    "c_mu = c_ser.mean()\n",
    "c_sigma = c_ser.std()\n",
    "\n",
    "print(c_ser.describe())"
   ]
  },
  {
   "cell_type": "code",
   "execution_count": 8,
   "metadata": {},
   "outputs": [
    {
     "name": "stdout",
     "output_type": "stream",
     "text": [
      "[28 20 21 13 21 21 14 34 22 19 14  9 28 32  5 23 38 21  7  9 11 21 11 33\n",
      " 18  9 35 16 27 22 16 23 24 14 16 26 16 17 27 29 22  9 18  9 28 19 17 13\n",
      " 28  6 16  3 27 11 17 19 10 21 11  8 31 19 24 28 22 15 12 13 21 10 21 41\n",
      " 20 20 19 27 37 30 28 32 20 20 16 16 11 15 17 18  8 15 18 17 10 37 32 24\n",
      " 21 14 28 23 19 22 19 12 17 12 19 31 10  9 16 17 10 23 23 30 25 12  2 21\n",
      " 25  4 18 17 19 24  8 14 23  1 22 15 16 17 17 25 17 18 21 22 19 16 20 24\n",
      " 15 17  3 24 17 25 19 29  9 12 19 14 23 14 15 13 14 21 36 19 18 12 23  7\n",
      " 21 21 16 14 10 12 12 21 21 17 22 24 11 25  9 10 20 17 15 26 18 18 11 27\n",
      "  9 11 21  5 23 19 22 15 17 18 33 12 18 26 13 20 19 23]\n",
      "{1: {1: 0, 2: 28, 3: 20, 4: 21, 5: 13, 6: 21, 7: 21, 8: 14, 9: 34, 10: 22, 11: 19, 12: 14, 13: 9, 14: 28, 15: 32}, 2: {1: 5, 2: 0, 3: 23, 4: 38, 5: 21, 6: 7, 7: 9, 8: 11, 9: 21, 10: 11, 11: 33, 12: 18, 13: 9, 14: 35, 15: 16}, 3: {1: 27, 2: 22, 3: 0, 4: 16, 5: 23, 6: 24, 7: 14, 8: 16, 9: 26, 10: 16, 11: 17, 12: 27, 13: 29, 14: 22, 15: 9}, 4: {1: 18, 2: 9, 3: 28, 4: 0, 5: 19, 6: 17, 7: 13, 8: 28, 9: 6, 10: 16, 11: 3, 12: 27, 13: 11, 14: 17, 15: 19}, 5: {1: 10, 2: 21, 3: 11, 4: 8, 5: 0, 6: 31, 7: 19, 8: 24, 9: 28, 10: 22, 11: 15, 12: 12, 13: 13, 14: 21, 15: 10}, 6: {1: 21, 2: 41, 3: 20, 4: 20, 5: 19, 6: 0, 7: 27, 8: 37, 9: 30, 10: 28, 11: 32, 12: 20, 13: 20, 14: 16, 15: 16}, 7: {1: 11, 2: 15, 3: 17, 4: 18, 5: 8, 6: 15, 7: 0, 8: 18, 9: 17, 10: 10, 11: 37, 12: 32, 13: 24, 14: 21, 15: 14}, 8: {1: 28, 2: 23, 3: 19, 4: 22, 5: 19, 6: 12, 7: 17, 8: 0, 9: 12, 10: 19, 11: 31, 12: 10, 13: 9, 14: 16, 15: 17}, 9: {1: 10, 2: 23, 3: 23, 4: 30, 5: 25, 6: 12, 7: 2, 8: 21, 9: 0, 10: 25, 11: 4, 12: 18, 13: 17, 14: 19, 15: 24}, 10: {1: 8, 2: 14, 3: 23, 4: 1, 5: 22, 6: 15, 7: 16, 8: 17, 9: 17, 10: 0, 11: 25, 12: 17, 13: 18, 14: 21, 15: 22}, 11: {1: 19, 2: 16, 3: 20, 4: 24, 5: 15, 6: 17, 7: 3, 8: 24, 9: 17, 10: 25, 11: 0, 12: 19, 13: 29, 14: 9, 15: 12}, 12: {1: 19, 2: 14, 3: 23, 4: 14, 5: 15, 6: 13, 7: 14, 8: 21, 9: 36, 10: 19, 11: 18, 12: 0, 13: 12, 14: 23, 15: 7}, 13: {1: 21, 2: 21, 3: 16, 4: 14, 5: 10, 6: 12, 7: 12, 8: 21, 9: 21, 10: 17, 11: 22, 12: 24, 13: 0, 14: 11, 15: 25}, 14: {1: 9, 2: 10, 3: 20, 4: 17, 5: 15, 6: 26, 7: 18, 8: 18, 9: 11, 10: 27, 11: 9, 12: 11, 13: 21, 14: 0, 15: 5}, 15: {1: 23, 2: 19, 3: 22, 4: 15, 5: 17, 6: 18, 7: 33, 8: 12, 9: 18, 10: 26, 11: 13, 12: 20, 13: 19, 14: 23, 15: 0}}\n"
     ]
    }
   ],
   "source": [
    "n = 15\n",
    "\n",
    "c_arr = np.random.normal(loc=c_mu, scale=c_sigma, size=n**2 - n).astype(int) # FIXME: the mean and standard deviation don't seem to converge to mu and sigma, https://stackoverflow.com/questions/27831923/python-random-number-generator-with-mean-and-standard-deviation\n",
    "\n",
    "# ensure all values are > 0\n",
    "# FIXME: this throws the mean and std even more off...\n",
    "while any(c_arr <= 0):\n",
    "    c_arr[c_arr <= 0] = np.random.normal(loc=c_mu, scale=c_sigma, size=sum(c_arr <= 0)).astype(int)\n",
    "\n",
    "c_iter = iter(c_arr)\n",
    "c_dct = {}\n",
    "for i in range(1, n + 1):\n",
    "    c_dct[i] = dict()\n",
    "    for j in range(1, n + 1):\n",
    "        if i == j:\n",
    "            c_dct[i][j] = 0\n",
    "        else:\n",
    "            c_dct[i][j] = next(c_iter)\n",
    "\n",
    "print(c_arr)\n",
    "print(c_dct)"
   ]
  },
  {
   "cell_type": "code",
   "execution_count": null,
   "metadata": {},
   "outputs": [],
   "source": [
    "n = 15\n",
    "\n",
    "c_arr = np.random.normal(loc=c_mu, scale=c_sigma, size=n**2 - n).astype(int) # FIXME: the mean and standard deviation don't seem to converge to mu and sigma, https://stackoverflow.com/questions/27831923/python-random-number-generator-with-mean-and-standard-deviation\n",
    "\n",
    "# ensure all values are > 0\n",
    "# FIXME: this throws the mean and std even more off...\n",
    "while any(c_arr <= 0):\n",
    "    c_arr[c_arr <= 0] = np.random.normal(loc=c_mu, scale=c_sigma, size=sum(c_arr <= 0)).astype(int)\n",
    "\n",
    "c_iter = iter(c_arr)\n",
    "c_dct = {}\n",
    "for i in range(1, n + 1):\n",
    "    c_dct[i] = dict()\n",
    "    for j in range(1, n + 1):\n",
    "        if i == j:\n",
    "            c_dct[i][j] = 0\n",
    "        else:\n",
    "            c_dct[i][j] = next(c_iter)\n",
    "\n",
    "print(c_arr)\n",
    "print(c_dct)"
   ]
  }
 ],
 "metadata": {
  "interpreter": {
   "hash": "ad25d3ef1faf7c1494f2d5509b3025098883cccac44e0e3e4d03a1bdd8247abb"
  },
  "kernelspec": {
   "display_name": "Python 3.10.4 ('venv': venv)",
   "language": "python",
   "name": "python3"
  },
  "language_info": {
   "codemirror_mode": {
    "name": "ipython",
    "version": 3
   },
   "file_extension": ".py",
   "mimetype": "text/x-python",
   "name": "python",
   "nbconvert_exporter": "python",
   "pygments_lexer": "ipython3",
   "version": "3.10.4"
  },
  "orig_nbformat": 4
 },
 "nbformat": 4,
 "nbformat_minor": 2
}
