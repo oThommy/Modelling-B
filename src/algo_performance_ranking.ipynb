{
 "cells": [
  {
   "cell_type": "code",
   "execution_count": 7,
   "metadata": {},
   "outputs": [],
   "source": [
    "from datetime import datetime\n",
    "import json\n",
    "import os\n",
    "from integer_linear_problem import Ilp\n",
    "from config import Config\n",
    "import pandas as pd\n",
    "import numpy as np\n",
    "import math\n",
    "import scipy.stats as stats\n",
    "import matplotlib.pyplot as plt\n",
    "import ilp_solver\n",
    "from intuitive_algo_1 import intuitive_algo_1\n",
    "from intuitive_algo_2 import intuitive_algo_2\n",
    "from solution import Flags\n",
    "import utils\n",
    "from tqdm import tqdm\n",
    "\n",
    "\n",
    "ILP_SMALL = Ilp.from_excel(Config().DATA_SMALL_PATH)\n",
    "ILP_LARGE = Ilp.from_excel(Config().DATA_LARGE_PATH)\n",
    "\n",
    "def gen_ilp(n, w_mu, w_sigma, c_mu, c_sigma, f_mu, f_sigma, collection, transfer, distribution):\n",
    "    w_arr = np.random.normal(loc=w_mu, scale=w_sigma, size=n**2).astype(int)\n",
    "\n",
    "    # ensure all values are >= 0\n",
    "    while any(w_arr < 0):\n",
    "        w_arr[w_arr < 0] = np.random.normal(loc=w_mu, scale=w_sigma, size=sum(w_arr < 0)).astype(int)\n",
    "\n",
    "    w_iter = iter(w_arr)\n",
    "    w_dct = dict()\n",
    "    for i in range(1, n + 1):\n",
    "        w_dct[i] = dict()\n",
    "        for j in range(1, n + 1):\n",
    "            w_dct[i][j] = next(w_iter)\n",
    "\n",
    "    c_arr = np.random.normal(loc=c_mu, scale=c_sigma, size=n**2 - n).astype(int) # FIXME: the mean and standard deviation don't seem to converge to mu and sigma, https://stackoverflow.com/questions/27831923/python-random-number-generator-with-mean-and-standard-deviation\n",
    "\n",
    "    # ensure all values are > 0\n",
    "    # FIXME: this throws the mean and std even more off...\n",
    "    # FIXME: make costs symmetrical\n",
    "    while any(c_arr <= 0):\n",
    "        c_arr[c_arr <= 0] = np.random.normal(loc=c_mu, scale=c_sigma, size=sum(c_arr <= 0)).astype(int)\n",
    "\n",
    "    c_iter = iter(c_arr)\n",
    "    c_dct = dict()\n",
    "    for i in range(1, n + 1):\n",
    "        c_dct[i] = dict()\n",
    "        for j in range(1, n + 1):\n",
    "            if i == j:\n",
    "                c_dct[i][j] = 0\n",
    "            else:\n",
    "                c_dct[i][j] = next(c_iter)\n",
    "\n",
    "    f_arr = np.random.normal(loc=f_mu, scale=f_sigma, size=n).astype(int)\n",
    "\n",
    "    # ensure all values are > 0\n",
    "    while any(f_arr <= 0):\n",
    "        f_arr[f_arr <= 0] = np.random.normal(loc=f_mu, scale=f_sigma, size=sum(f_arr <= 0)).astype(int)\n",
    "\n",
    "    f_iter = iter(f_arr)\n",
    "    f_dct = {i: next(f_iter) for i in range(1, n + 1)}\n",
    "\n",
    "    N = set(range(1, n + 1))\n",
    "    ilp = Ilp(N, collection, transfer, distribution, w_dct, c_dct, f_dct)\n",
    "\n",
    "    return ilp\n",
    "\n",
    "def get_params_nd():\n",
    "\n",
    "\n",
    "    # merge small and large data set (also make them of the same size) and calculate mean and standard deviation seperately for flow, costs and fixed costs\n",
    "    w_small_ser = ILP_SMALL.w_df.stack()\n",
    "    w_large_ser = ILP_LARGE.w_df.stack()\n",
    "    \n",
    "    w_small_ser = pd.concat([w_small_ser] * math.ceil(len(w_large_ser) / len(w_small_ser)))\n",
    "    w_small_ser = w_small_ser[:len(w_large_ser)]\n",
    "\n",
    "    w_ser = pd.concat([w_small_ser, w_large_ser])\n",
    "    w_mu = w_ser.mean()\n",
    "    w_sigma = w_ser.std()\n",
    "\n",
    "    # exclude zeros for mean and std\n",
    "    c_small_ser = ILP_SMALL.c_df.stack()\n",
    "    c_small_ser = c_small_ser[c_small_ser != 0]\n",
    "    c_large_ser = ILP_LARGE.c_df.stack()\n",
    "    c_large_ser = c_large_ser[c_large_ser != 0]\n",
    "\n",
    "    c_small_ser = pd.concat([c_small_ser] * math.ceil(len(c_large_ser) / len(c_small_ser)))\n",
    "    c_small_ser = c_small_ser[:len(c_large_ser)]\n",
    "\n",
    "    c_ser = pd.concat([c_small_ser, c_large_ser])\n",
    "    c_mu = c_ser.mean()\n",
    "    c_sigma = c_ser.std()\n",
    "\n",
    "    f_small_ser = ILP_SMALL.f_ser\n",
    "    f_large_ser = ILP_LARGE.f_ser\n",
    "\n",
    "    f_small_ser = pd.concat([f_small_ser] * math.ceil(len(f_large_ser) / len(f_small_ser)))\n",
    "    f_small_ser = f_small_ser[:len(f_large_ser)]\n",
    "\n",
    "    f_ser: pd.Series = pd.concat([f_small_ser, f_large_ser])\n",
    "    f_mu = f_ser.mean()\n",
    "    f_sigma = f_ser.std()\n",
    "\n",
    "    return w_mu, w_sigma, c_mu, c_sigma, f_mu, f_sigma"
   ]
  },
  {
   "cell_type": "markdown",
   "metadata": {},
   "source": [
    "# RUN DIT"
   ]
  },
  {
   "cell_type": "code",
   "execution_count": 13,
   "metadata": {},
   "outputs": [
    {
     "name": "stderr",
     "output_type": "stream",
     "text": [
      "  0%|          | 0/50 [00:00<?, ?it/s]c:\\Users\\Thom van den Hil\\Desktop\\Modelling-B\\venv\\lib\\site-packages\\pulp\\pulp.py:1352: UserWarning: Spaces are not permitted in the name. Converted to '_'\n",
      "  warnings.warn(\"Spaces are not permitted in the name. Converted to '_'\")\n",
      "calculating (sub)optimal solution: 100it [00:01, 64.18it/s]                                         \n",
      "calculating (sub)optimal solution: 100it [00:00, 110.99it/s]\n",
      "calculating (sub)optimal solution: 100it [00:01, 73.64it/s]                                         \n",
      "calculating (sub)optimal solution: 100it [00:01, 99.70it/s] \n",
      "calculating (sub)optimal solution: 100it [00:01, 72.94it/s]                                         \n",
      "calculating (sub)optimal solution: 100it [00:01, 66.62it/s]                                         \n",
      "calculating (sub)optimal solution: 100it [00:01, 63.98it/s] \n",
      "calculating (sub)optimal solution: 100it [00:01, 73.75it/s]                                         \n",
      "calculating (sub)optimal solution: 100it [00:00, 138.31it/s]\n",
      "calculating (sub)optimal solution: 100it [00:00, 112.74it/s]\n",
      "calculating (sub)optimal solution: 100it [00:01, 77.22it/s] \n",
      "calculating (sub)optimal solution: 100it [00:01, 77.40it/s] \n",
      "calculating (sub)optimal solution: 100it [00:01, 66.09it/s] \n",
      "calculating (sub)optimal solution: 100it [00:01, 85.84it/s] \n",
      "calculating (sub)optimal solution: 100it [00:01, 94.97it/s] \n",
      "calculating (sub)optimal solution: 100it [00:01, 80.32it/s] \n",
      "calculating (sub)optimal solution: 100it [00:01, 77.46it/s] \n",
      "calculating (sub)optimal solution: 100it [00:01, 93.72it/s] \n",
      "calculating (sub)optimal solution: 100it [00:01, 96.43it/s] \n",
      "calculating (sub)optimal solution: 100it [00:01, 83.68it/s] \n",
      "calculating (sub)optimal solution: 100it [00:01, 88.34it/s] \n",
      "calculating (sub)optimal solution: 100it [00:01, 71.12it/s] \n",
      "calculating (sub)optimal solution: 100it [00:01, 96.15it/s] \n",
      "calculating (sub)optimal solution: 100it [00:01, 82.03it/s] \n",
      "calculating (sub)optimal solution: 100it [00:01, 89.85it/s] \n",
      "calculating (sub)optimal solution: 100it [00:01, 78.49it/s]                                         \n",
      "calculating (sub)optimal solution: 100it [00:01, 73.21it/s]                                         \n",
      "calculating (sub)optimal solution: 100it [00:01, 97.56it/s] \n",
      "calculating (sub)optimal solution: 100it [00:01, 75.47it/s]                                         \n",
      "calculating (sub)optimal solution: 100it [00:01, 75.02it/s]                                         \n",
      "calculating (sub)optimal solution: 100it [00:01, 71.68it/s] \n",
      "calculating (sub)optimal solution: 100it [00:01, 75.41it/s] \n",
      "calculating (sub)optimal solution: 100it [00:01, 78.74it/s] \n",
      "calculating (sub)optimal solution: 100it [00:00, 114.16it/s]\n",
      "calculating (sub)optimal solution: 100it [00:00, 113.51it/s]\n",
      "calculating (sub)optimal solution: 100it [00:01, 80.00it/s] \n",
      "calculating (sub)optimal solution: 100it [00:01, 74.35it/s] \n",
      "calculating (sub)optimal solution: 100it [00:01, 94.34it/s] \n",
      "calculating (sub)optimal solution: 100it [00:01, 84.96it/s] \n",
      "calculating (sub)optimal solution: 100it [00:01, 71.89it/s] \n",
      "calculating (sub)optimal solution: 100it [00:01, 91.32it/s] \n",
      "calculating (sub)optimal solution: 100it [00:01, 97.09it/s] \n",
      "calculating (sub)optimal solution: 100it [00:01, 64.77it/s] \n",
      "calculating (sub)optimal solution: 100it [00:01, 85.91it/s] \n",
      "calculating (sub)optimal solution: 100it [00:01, 74.74it/s]                                         \n",
      "calculating (sub)optimal solution: 100it [00:01, 79.37it/s] \n",
      "calculating (sub)optimal solution: 100it [00:01, 88.18it/s] \n",
      "calculating (sub)optimal solution: 100it [00:01, 73.53it/s] \n",
      "calculating (sub)optimal solution: 100it [00:01, 77.82it/s] \n",
      "calculating (sub)optimal solution: 100it [00:01, 88.42it/s] \n",
      "100%|██████████| 50/50 [10:40<00:00, 12.82s/it]"
     ]
    },
    {
     "name": "stdout",
     "output_type": "stream",
     "text": [
      "[1.8489561036280637, 1.749830543823974, 0.9440167320459374, 0.0, 8.065238158969555, 1.7806188042304816, 2.1594749070833026, 0.5285159749178859, 6.85539217885114, 12.38359923615754, 3.1102725295924323, 2.4820698032681596, 0.0, 9.79655071344496, 1.7735925870202052, 11.536821447731013, 3.9903995231977962, 8.847145846513213, 0.0, 0.0, 0.8315155083887603, 3.062915047017628, 3.3790170132325144, 7.432415830003883, 6.535471678353303, 1.1281215253184342, 1.8841890881450176, 2.6294028843017214, 1.5510124012759496, 5.790279767706121, 2.577206163020976, 1.9007743334930765, 4.2070937683479555, 4.21729836221026, 8.360734963848799, 16.00062813115784, 0.0, 7.362597041442973, 0.0, 0.8732933958598754, 1.6168658698539178, 0.24798542058424014, 0.9754622429583548, 2.0377801039001318, 0.751186926532127, 0.0, 4.9514191950034006, 4.76699416116584, 8.745787875754846, 8.12079113420648]\n"
     ]
    },
    {
     "name": "stderr",
     "output_type": "stream",
     "text": [
      "\n"
     ]
    }
   ],
   "source": [
    "ILP = ILP_SMALL\n",
    "SAMPLES = 50\n",
    "\n",
    "w_mu, w_sigma, c_mu, c_sigma, f_mu, f_sigma = get_params_nd()\n",
    "\n",
    "error_arr = []\n",
    "for _ in tqdm(range(SAMPLES)):\n",
    "    ilp = gen_ilp(len(ILP.N), w_mu, w_sigma, c_mu, c_sigma, f_mu, f_sigma, ILP.collection, ILP.transfer, ILP.distribution)\n",
    "    sol_gurobi = ilp_solver.gurobi_v2(ilp, Flags.NONE)\n",
    "    sol_heuristic_2 = intuitive_algo_2(ilp, Flags.NONE)\n",
    "    error = (sol_heuristic_2.z - sol_gurobi.z) / sol_gurobi.z * 100\n",
    "    error_arr.append(error)\n",
    "\n",
    "print(error_arr)"
   ]
  },
  {
   "cell_type": "code",
   "execution_count": 14,
   "metadata": {},
   "outputs": [
    {
     "name": "stdout",
     "output_type": "stream",
     "text": [
      "3.795814698471202\n",
      "3.7647275954223565\n"
     ]
    }
   ],
   "source": [
    "error_ser = pd.Series(error_arr)\n",
    "print(error_ser.mean())\n",
    "print(error_ser.std())"
   ]
  },
  {
   "cell_type": "code",
   "execution_count": 8,
   "metadata": {},
   "outputs": [
    {
     "name": "stderr",
     "output_type": "stream",
     "text": [
      "100%|███████████████████████████████████████████████████████████| 1023/1023 [00:31<00:00, 32.92it/s]\n",
      "calculating (sub)optimal solution: 100it [00:01, 70.42it/s]                                         \n",
      "100%|███████████████████████████████████████████████████████████| 1023/1023 [00:32<00:00, 31.76it/s]\n",
      "calculating (sub)optimal solution: 100it [00:01, 77.43it/s] \n",
      "100%|███████████████████████████████████████████████████████████| 1023/1023 [00:30<00:00, 33.30it/s]\n",
      "calculating (sub)optimal solution: 100it [00:01, 85.47it/s] \n",
      "100%|███████████████████████████████████████████████████████████| 1023/1023 [00:31<00:00, 32.91it/s]\n",
      "calculating (sub)optimal solution: 100it [00:01, 60.75it/s]                                         \n",
      "100%|███████████████████████████████████████████████████████████| 1023/1023 [00:30<00:00, 33.93it/s]\n",
      "calculating (sub)optimal solution: 100it [00:01, 69.49it/s] \n",
      "100%|███████████████████████████████████████████████████████████| 1023/1023 [00:30<00:00, 33.66it/s]\n",
      "calculating (sub)optimal solution: 100it [00:01, 82.10it/s] \n",
      "100%|███████████████████████████████████████████████████████████| 1023/1023 [00:31<00:00, 32.32it/s]\n",
      "calculating (sub)optimal solution: 100it [00:00, 182.48it/s]\n",
      "100%|███████████████████████████████████████████████████████████| 1023/1023 [00:31<00:00, 32.44it/s]\n",
      "calculating (sub)optimal solution: 100it [00:01, 90.25it/s] \n",
      "100%|███████████████████████████████████████████████████████████| 1023/1023 [00:32<00:00, 31.56it/s]\n",
      "calculating (sub)optimal solution: 100it [00:01, 70.47it/s] \n",
      "100%|███████████████████████████████████████████████████████████| 1023/1023 [00:34<00:00, 29.55it/s]\n",
      "calculating (sub)optimal solution: 100it [00:00, 163.13it/s]\n",
      "100%|██████████| 10/10 [05:27<00:00, 32.79s/it]"
     ]
    },
    {
     "name": "stdout",
     "output_type": "stream",
     "text": [
      "[0.0, 0.38494748975954607, 3.316403365089058, 1.2322573694018684, 0.0, 3.372916746730205, 25.09423642625907, 0.0, 0.0, 16.119624503728993]\n"
     ]
    },
    {
     "name": "stderr",
     "output_type": "stream",
     "text": [
      "\n"
     ]
    }
   ],
   "source": [
    "ILP = ILP_SMALL\n",
    "SAMPLES = 10\n",
    "\n",
    "w_mu, w_sigma, c_mu, c_sigma, f_mu, f_sigma = get_params_nd()\n",
    "\n",
    "error_arr = []\n",
    "for _ in tqdm(range(SAMPLES)):\n",
    "    ilp = gen_ilp(len(ILP.N), w_mu, w_sigma, c_mu, c_sigma, f_mu, f_sigma, ILP.collection, ILP.transfer, ILP.distribution)\n",
    "    sol_heuristic_1 = intuitive_algo_1(ilp, Flags.NONE)\n",
    "    sol_heuristic_2 = intuitive_algo_2(ilp, Flags.NONE)\n",
    "    error = (sol_heuristic_2.z - sol_heuristic_1.z) / sol_heuristic_1.z * 100\n",
    "    error_arr.append(error)\n",
    "\n",
    "print(error_arr)"
   ]
  },
  {
   "cell_type": "code",
   "execution_count": 9,
   "metadata": {},
   "outputs": [
    {
     "name": "stdout",
     "output_type": "stream",
     "text": [
      "4.952038590096874\n",
      "8.617668384292985\n"
     ]
    }
   ],
   "source": [
    "error_ser = pd.Series(error_arr)\n",
    "print(error_ser.mean())\n",
    "print(error_ser.std())"
   ]
  }
 ],
 "metadata": {
  "kernelspec": {
   "display_name": "Python 3.10.4 ('venv': venv)",
   "language": "python",
   "name": "python3"
  },
  "language_info": {
   "codemirror_mode": {
    "name": "ipython",
    "version": 3
   },
   "file_extension": ".py",
   "mimetype": "text/x-python",
   "name": "python",
   "nbconvert_exporter": "python",
   "pygments_lexer": "ipython3",
   "version": "3.10.4"
  },
  "orig_nbformat": 4,
  "vscode": {
   "interpreter": {
    "hash": "ad25d3ef1faf7c1494f2d5509b3025098883cccac44e0e3e4d03a1bdd8247abb"
   }
  }
 },
 "nbformat": 4,
 "nbformat_minor": 2
}
