{
 "cells": [
  {
   "cell_type": "markdown",
   "metadata": {},
   "source": [
    "# Intuitive Algorithm Solver"
   ]
  },
  {
   "cell_type": "markdown",
   "metadata": {},
   "source": [
    "### Configuration"
   ]
  },
  {
   "cell_type": "code",
   "execution_count": 6,
   "metadata": {},
   "outputs": [],
   "source": [
    "FILEPATH = r'./../brightspace-locker/Data assignment parcel transport 2 Large.xlsx'"
   ]
  },
  {
   "cell_type": "markdown",
   "metadata": {},
   "source": [
    "### Initialisations"
   ]
  },
  {
   "cell_type": "code",
   "execution_count": 7,
   "metadata": {},
   "outputs": [],
   "source": [
    "from integer_linear_problem import ILP\n",
    "from typing import Dict, List, Set\n",
    "import pandas as pd\n",
    "import numpy as np\n",
    "import copy\n",
    "import json\n",
    "from tqdm import tqdm\n",
    "\n",
    "ilp = ILP(FILEPATH)"
   ]
  },
  {
   "cell_type": "markdown",
   "metadata": {},
   "source": [
    "### Solver"
   ]
  },
  {
   "cell_type": "code",
   "execution_count": 8,
   "metadata": {},
   "outputs": [
    {
     "name": "stderr",
     "output_type": "stream",
     "text": [
      "  1%|▌                                                        | 319/32767 [00:47<1:19:57,  6.76it/s]\n"
     ]
    },
    {
     "ename": "KeyboardInterrupt",
     "evalue": "",
     "output_type": "error",
     "traceback": [
      "\u001b[1;31m---------------------------------------------------------------------------\u001b[0m",
      "\u001b[1;31mKeyboardInterrupt\u001b[0m                         Traceback (most recent call last)",
      "\u001b[1;32m<ipython-input-8-19133a10a64c>\u001b[0m in \u001b[0;36m<module>\u001b[1;34m\u001b[0m\n\u001b[0;32m     26\u001b[0m                 \u001b[0mE\u001b[0m\u001b[1;33m[\u001b[0m\u001b[0mnon_hub\u001b[0m\u001b[1;33m]\u001b[0m\u001b[1;33m[\u001b[0m\u001b[0mhub\u001b[0m\u001b[1;33m]\u001b[0m \u001b[1;33m=\u001b[0m \u001b[1;36m1\u001b[0m \u001b[1;32mif\u001b[0m \u001b[0mhub\u001b[0m \u001b[1;33m==\u001b[0m \u001b[0mmin_cost_hub\u001b[0m \u001b[1;32melse\u001b[0m \u001b[1;36m0\u001b[0m\u001b[1;33m\u001b[0m\u001b[1;33m\u001b[0m\u001b[0m\n\u001b[0;32m     27\u001b[0m \u001b[1;33m\u001b[0m\u001b[0m\n\u001b[1;32m---> 28\u001b[1;33m         \u001b[0mcurrent_z\u001b[0m \u001b[1;33m=\u001b[0m \u001b[0milp\u001b[0m\u001b[1;33m.\u001b[0m\u001b[0mget_z\u001b[0m\u001b[1;33m(\u001b[0m\u001b[0mH\u001b[0m\u001b[1;33m,\u001b[0m \u001b[0mE\u001b[0m\u001b[1;33m)\u001b[0m\u001b[1;33m\u001b[0m\u001b[1;33m\u001b[0m\u001b[0m\n\u001b[0m\u001b[0;32m     29\u001b[0m         \u001b[1;31m# if current_z >= z_min:\u001b[0m\u001b[1;33m\u001b[0m\u001b[1;33m\u001b[0m\u001b[1;33m\u001b[0m\u001b[0m\n\u001b[0;32m     30\u001b[0m         \u001b[1;31m#     continue\u001b[0m\u001b[1;33m\u001b[0m\u001b[1;33m\u001b[0m\u001b[1;33m\u001b[0m\u001b[0m\n",
      "\u001b[1;32mc:\\Users\\Thom van den Hil\\Desktop\\Modelling-B\\src\\integer_linear_problem.py\u001b[0m in \u001b[0;36mget_z\u001b[1;34m(self, H, E)\u001b[0m\n\u001b[0;32m     78\u001b[0m                 \u001b[1;32mfor\u001b[0m \u001b[0mk\u001b[0m \u001b[1;32min\u001b[0m \u001b[0mself\u001b[0m\u001b[1;33m.\u001b[0m\u001b[0mN\u001b[0m\u001b[1;33m:\u001b[0m\u001b[1;33m\u001b[0m\u001b[1;33m\u001b[0m\u001b[0m\n\u001b[0;32m     79\u001b[0m                     \u001b[1;32mfor\u001b[0m \u001b[0ml\u001b[0m \u001b[1;32min\u001b[0m \u001b[0mself\u001b[0m\u001b[1;33m.\u001b[0m\u001b[0mN\u001b[0m\u001b[1;33m:\u001b[0m\u001b[1;33m\u001b[0m\u001b[1;33m\u001b[0m\u001b[0m\n\u001b[1;32m---> 80\u001b[1;33m                         \u001b[0mz\u001b[0m \u001b[1;33m+=\u001b[0m \u001b[1;33m(\u001b[0m\u001b[1;36m1\u001b[0m \u001b[1;33m-\u001b[0m \u001b[0mH\u001b[0m\u001b[1;33m[\u001b[0m\u001b[0mi\u001b[0m\u001b[1;33m]\u001b[0m\u001b[1;33m)\u001b[0m \u001b[1;33m*\u001b[0m \u001b[1;33m(\u001b[0m\u001b[1;36m1\u001b[0m \u001b[1;33m-\u001b[0m \u001b[0mH\u001b[0m\u001b[1;33m[\u001b[0m\u001b[0mj\u001b[0m\u001b[1;33m]\u001b[0m\u001b[1;33m)\u001b[0m \u001b[1;33m*\u001b[0m \u001b[0mself\u001b[0m\u001b[1;33m.\u001b[0m\u001b[0mw\u001b[0m\u001b[1;33m[\u001b[0m\u001b[0mi\u001b[0m\u001b[1;33m]\u001b[0m\u001b[1;33m[\u001b[0m\u001b[0mj\u001b[0m\u001b[1;33m]\u001b[0m \u001b[1;33m*\u001b[0m \u001b[1;33m(\u001b[0m\u001b[0mself\u001b[0m\u001b[1;33m.\u001b[0m\u001b[0mdistribution\u001b[0m \u001b[1;33m*\u001b[0m \u001b[0mself\u001b[0m\u001b[1;33m.\u001b[0m\u001b[0mc\u001b[0m\u001b[1;33m[\u001b[0m\u001b[0ml\u001b[0m\u001b[1;33m]\u001b[0m\u001b[1;33m[\u001b[0m\u001b[0mj\u001b[0m\u001b[1;33m]\u001b[0m \u001b[1;33m+\u001b[0m \u001b[0mself\u001b[0m\u001b[1;33m.\u001b[0m\u001b[0mtransfer\u001b[0m \u001b[1;33m*\u001b[0m \u001b[0mself\u001b[0m\u001b[1;33m.\u001b[0m\u001b[0mc\u001b[0m\u001b[1;33m[\u001b[0m\u001b[0mk\u001b[0m\u001b[1;33m]\u001b[0m\u001b[1;33m[\u001b[0m\u001b[0ml\u001b[0m\u001b[1;33m]\u001b[0m \u001b[1;33m+\u001b[0m \u001b[0mself\u001b[0m\u001b[1;33m.\u001b[0m\u001b[0mcollection\u001b[0m \u001b[1;33m*\u001b[0m \u001b[0mself\u001b[0m\u001b[1;33m.\u001b[0m\u001b[0mc\u001b[0m\u001b[1;33m[\u001b[0m\u001b[0mi\u001b[0m\u001b[1;33m]\u001b[0m\u001b[1;33m[\u001b[0m\u001b[0mk\u001b[0m\u001b[1;33m]\u001b[0m\u001b[1;33m)\u001b[0m\u001b[1;33m\u001b[0m\u001b[1;33m\u001b[0m\u001b[0m\n\u001b[0m\u001b[0;32m     81\u001b[0m \u001b[1;33m\u001b[0m\u001b[0m\n\u001b[0;32m     82\u001b[0m         \u001b[1;32mreturn\u001b[0m \u001b[0mz\u001b[0m\u001b[1;33m\u001b[0m\u001b[1;33m\u001b[0m\u001b[0m\n",
      "\u001b[1;31mKeyboardInterrupt\u001b[0m: "
     ]
    }
   ],
   "source": [
    "def powerset(s: Set) -> Set:\n",
    "    bitmasks = [1 << i for i in range(len(s))] # 1 << i is basically equal to 2^i\n",
    "    # the n-th digits in the binary representation of bit_selection dictates whether the n-th item is selected (1 = selected, 0 = not selected)\n",
    "    for bit_selection in range(1, 1 << len(s)): # start with 1 to prevent empty set\n",
    "        yield {el for el, bitmask in zip(s, bitmasks) if bit_selection & bitmask}\n",
    "\n",
    "z_min = float('inf')\n",
    "\n",
    "x = False # TODO: REMOVE\n",
    "with tqdm(total=(1 << len(ilp.N)) - 1, ncols=100) as pbar:\n",
    "    for hubs in powerset(ilp.N):\n",
    "        pbar.update(1)\n",
    "\n",
    "        non_hubs = ilp.N - hubs\n",
    "\n",
    "        H = dict()\n",
    "        for node in ilp.N:\n",
    "            H[node] = 1 if node in hubs else 0\n",
    "\n",
    "        E = dict()\n",
    "        for non_hub in non_hubs:\n",
    "            E[non_hub] = dict()\n",
    "            cost_dict = {hub: ilp.c[non_hub][hub] for hub in hubs} # filter on hubs\n",
    "            min_cost_hub = min(cost_dict, key=cost_dict.get)\n",
    "            for hub in hubs:\n",
    "                E[non_hub][hub] = 1 if hub == min_cost_hub else 0\n",
    "\n",
    "        current_z = ilp.get_z(H, E)\n",
    "        # if current_z >= z_min:\n",
    "        #     continue\n",
    "        if x:\n",
    "            continue\n",
    "        if len(hubs) == 7:# TODO: REMOVE\n",
    "            x = True\n",
    "        # z_min = current_z\n",
    "        # TODO: remove deepcopy and remove copy import\n",
    "        hubs_min = copy.deepcopy(hubs)\n",
    "        non_hubs_min = copy.deepcopy(non_hubs)\n",
    "        H_min = copy.deepcopy(H)\n",
    "        E_min = copy.deepcopy(E)\n",
    "\n",
    "print('(Possibly Sub-optimal) Solution:')\n",
    "print(f'z = {z_min}')\n",
    "print(f'Hubs = {hubs_min}')\n",
    "print(f'Non-hubs = {non_hubs_min}')\n",
    "print(f'H = {json.dumps(H_min, indent=4)}')\n",
    "print(f'E = {json.dumps(E_min, indent=4)}')\n",
    "print(ilp)\n",
    "\n",
    "# TODO: add pyvis, tqdm or whatever to README.md\n",
    "# TODO: html files in graphs directory with name ending in excel file name  -> in graph class convert file name to absolute with os library and set parameter filepath=None as default"
   ]
  }
 ],
 "metadata": {
  "interpreter": {
   "hash": "d3a7bff9b0ece80a6a4bcaffb870b1f82d9a6c892aab1bd79f7423714be328f3"
  },
  "kernelspec": {
   "display_name": "Python 3.6.6",
   "language": "python",
   "name": "python3"
  },
  "language_info": {
   "codemirror_mode": {
    "name": "ipython",
    "version": 3
   },
   "file_extension": ".py",
   "mimetype": "text/x-python",
   "name": "python",
   "nbconvert_exporter": "python",
   "pygments_lexer": "ipython3",
   "version": "3.8.8"
  },
  "orig_nbformat": 4
 },
 "nbformat": 4,
 "nbformat_minor": 2
}
