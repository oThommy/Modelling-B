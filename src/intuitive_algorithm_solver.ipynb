{
 "cells": [
  {
   "cell_type": "markdown",
   "metadata": {},
   "source": [
    "# Intuitive Algorithm Solver"
   ]
  },
  {
   "cell_type": "markdown",
   "metadata": {},
   "source": [
    "### Configuration"
   ]
  },
  {
   "cell_type": "code",
   "execution_count": 2,
   "metadata": {},
   "outputs": [],
   "source": [
    "FILEPATH = r'./../other/Data assignment parcel transport 2 Small.xlsx'"
   ]
  },
  {
   "cell_type": "markdown",
   "metadata": {},
   "source": [
    "### Initialisations"
   ]
  },
  {
   "cell_type": "code",
   "execution_count": 3,
   "metadata": {},
   "outputs": [],
   "source": [
    "from integer_linear_problem import ILP\n",
    "from typing import Dict, List, Set\n",
    "import pandas as pd\n",
    "import numpy as np\n",
    "import copy\n",
    "import json\n",
    "\n",
    "ilp = ILP(FILEPATH)"
   ]
  },
  {
   "cell_type": "markdown",
   "metadata": {},
   "source": [
    "### Solver"
   ]
  },
  {
   "cell_type": "code",
   "execution_count": 5,
   "metadata": {},
   "outputs": [
    {
     "name": "stdout",
     "output_type": "stream",
     "text": [
      "(Possibly Sub-optimal) Solution:\n",
      "z = None\n",
      "Hubs = {3, 6, 7}\n",
      "Non-hubs = {1, 2, 4, 5, 8, 9, 10}\n",
      "H = {\n",
      "    \"1\": 0,\n",
      "    \"2\": 0,\n",
      "    \"3\": 1,\n",
      "    \"4\": 0,\n",
      "    \"5\": 0,\n",
      "    \"6\": 1,\n",
      "    \"7\": 1,\n",
      "    \"8\": 0,\n",
      "    \"9\": 0,\n",
      "    \"10\": 0\n",
      "}\n",
      "E = {\n",
      "    \"1\": {\n",
      "        \"3\": 1,\n",
      "        \"6\": 0,\n",
      "        \"7\": 0\n",
      "    },\n",
      "    \"2\": {\n",
      "        \"3\": 0,\n",
      "        \"6\": 1,\n",
      "        \"7\": 0\n",
      "    },\n",
      "    \"4\": {\n",
      "        \"3\": 0,\n",
      "        \"6\": 1,\n",
      "        \"7\": 0\n",
      "    },\n",
      "    \"5\": {\n",
      "        \"3\": 1,\n",
      "        \"6\": 0,\n",
      "        \"7\": 0\n",
      "    },\n",
      "    \"8\": {\n",
      "        \"3\": 0,\n",
      "        \"6\": 1,\n",
      "        \"7\": 0\n",
      "    },\n",
      "    \"9\": {\n",
      "        \"3\": 0,\n",
      "        \"6\": 0,\n",
      "        \"7\": 1\n",
      "    },\n",
      "    \"10\": {\n",
      "        \"3\": 0,\n",
      "        \"6\": 0,\n",
      "        \"7\": 1\n",
      "    }\n",
      "}\n"
     ]
    }
   ],
   "source": [
    "def powerset(s: Set) -> Set:\n",
    "    bitmasks = [1 << i for i in range(len(s))] # 1 << i is basically equal to 2^i\n",
    "    # the n-th digits in the binary representation of bit_selection dictates whether the n-th item is selected (1 = selected, 0 = not selected)\n",
    "    for bit_selection in range(1, 1 << len(s)): # start with 1 to prevent empty set\n",
    "        yield {el for el, bitmask in zip(s, bitmasks) if bit_selection & bitmask}\n",
    "\n",
    "z_min = float('inf')\n",
    "\n",
    "c=0 # TODO: REMOVE\n",
    "for hubs in powerset(ilp.N):\n",
    "    non_hubs = ilp.N - hubs\n",
    "\n",
    "    H = dict()\n",
    "    for node in ilp.N:\n",
    "        H[node] = 1 if node in hubs else 0\n",
    "\n",
    "    E = dict()\n",
    "    for non_hub in non_hubs:\n",
    "        E[non_hub] = dict()\n",
    "        cost_dict = {hub: ilp.c[non_hub][hub] for hub in hubs} # filter on hubs\n",
    "        min_cost_hub = min(cost_dict, key=cost_dict.get)\n",
    "        for hub in hubs:\n",
    "            E[non_hub][hub] = 1 if hub == min_cost_hub else 0\n",
    "\n",
    "    current_z = ilp.get_z(H, E)\n",
    "    # if current_z >= z_min:\n",
    "    #     continue\n",
    "    c+=1 # TODO: REMOVE\n",
    "    if c>100:\n",
    "        continue\n",
    "    z_min = current_z\n",
    "    # TODO: remove deepcopy and remove copy import\n",
    "    hubs_min = copy.deepcopy(hubs)\n",
    "    non_hubs_min = copy.deepcopy(non_hubs)\n",
    "    H_min = copy.deepcopy(H)\n",
    "    E_min = copy.deepcopy(E)\n",
    "\n",
    "print('(Possibly Sub-optimal) Solution:')\n",
    "print(f'z = {z_min}')\n",
    "print(f'Hubs = {hubs_min}')\n",
    "print(f'Non-hubs = {non_hubs_min}')\n",
    "print(f'H = {json.dumps(H_min, indent=4)}')\n",
    "print(f'E = {json.dumps(E_min, indent=4)}')\n",
    "\n",
    "# TODO: add pyvis or whatever to README.md\n",
    "# TODO: html files in graphs directory with name ending in excel file name  -> in graph class convert file name to absolute with os library and set parameter filepath=None as default"
   ]
  }
 ],
 "metadata": {
  "interpreter": {
   "hash": "d3a7bff9b0ece80a6a4bcaffb870b1f82d9a6c892aab1bd79f7423714be328f3"
  },
  "kernelspec": {
   "display_name": "Python 3.6.6",
   "language": "python",
   "name": "python3"
  },
  "language_info": {
   "codemirror_mode": {
    "name": "ipython",
    "version": 3
   },
   "file_extension": ".py",
   "mimetype": "text/x-python",
   "name": "python",
   "nbconvert_exporter": "python",
   "pygments_lexer": "ipython3",
   "version": "3.6.6"
  },
  "orig_nbformat": 4
 },
 "nbformat": 4,
 "nbformat_minor": 2
}
