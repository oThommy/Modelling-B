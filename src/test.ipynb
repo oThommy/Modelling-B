{
 "cells": [
  {
   "cell_type": "code",
   "execution_count": 8,
   "metadata": {},
   "outputs": [
    {
     "name": "stdout",
     "output_type": "stream",
     "text": [
      "\n",
      "ILP(\n",
      "    filepath: c:\\Users\\Thom van den Hil\\Desktop\\Modelling-B\\other\\Data assignment parcel transport 2 very small Small.xlsx\n",
      "    N: {1, 2, 3, 4}\n",
      "    collection: 3\n",
      "    transfer: 1\n",
      "    distribution: 2\n",
      "    w: {\n",
      "    \"1\": {\n",
      "        \"1\": 75,\n",
      "        \"2\": 26,\n",
      "        \"3\": 67,\n",
      "        \"4\": 17\n",
      "    },\n",
      "    \"2\": {\n",
      "        \"1\": 37,\n",
      "        \"2\": 38,\n",
      "        \"3\": 39,\n",
      "        \"4\": 33\n",
      "    },\n",
      "    \"3\": {\n",
      "        \"1\": 55,\n",
      "        \"2\": 25,\n",
      "        \"3\": 51,\n",
      "        \"4\": 19\n",
      "    },\n",
      "    \"4\": {\n",
      "        \"1\": 19,\n",
      "        \"2\": 27,\n",
      "        \"3\": 22,\n",
      "        \"4\": 25\n",
      "    }\n",
      "}\n",
      "    c: {\n",
      "    \"1\": {\n",
      "        \"1\": 0,\n",
      "        \"2\": 20,\n",
      "        \"3\": 16,\n",
      "        \"4\": 23\n",
      "    },\n",
      "    \"2\": {\n",
      "        \"1\": 20,\n",
      "        \"2\": 0,\n",
      "        \"3\": 20,\n",
      "        \"4\": 13\n",
      "    },\n",
      "    \"3\": {\n",
      "        \"1\": 16,\n",
      "        \"2\": 20,\n",
      "        \"3\": 0,\n",
      "        \"4\": 14\n",
      "    },\n",
      "    \"4\": {\n",
      "        \"1\": 23,\n",
      "        \"2\": 13,\n",
      "        \"3\": 14,\n",
      "        \"4\": 0\n",
      "    }\n",
      "}\n",
      "    f: {\n",
      "    \"1\": 28767,\n",
      "    \"2\": 28377,\n",
      "    \"3\": 29774,\n",
      "    \"4\": 24301\n",
      "}\n",
      ")\n",
      "        \n"
     ]
    }
   ],
   "source": [
    "import pandas as pd\n",
    "\n",
    "E = [[0,0,1,0], [0,0,1,0]]\n",
    "print(E[1][2])\n",
    "E_dict = pd.DataFrame(E).T.to_dict()\n",
    "print(E_dict)\n",
    "print(E_dict[1][2])\n",
    "H = [1,0,0,1,1,1,1,1]\n",
    "print(pd.Series(H, index=range(1, 9)).to_dict())"
   ]
  }
 ],
 "metadata": {
  "interpreter": {
   "hash": "d3a7bff9b0ece80a6a4bcaffb870b1f82d9a6c892aab1bd79f7423714be328f3"
  },
  "kernelspec": {
   "display_name": "Python 3.6.6",
   "language": "python",
   "name": "python3"
  },
  "language_info": {
   "codemirror_mode": {
    "name": "ipython",
    "version": 3
   },
   "file_extension": ".py",
   "mimetype": "text/x-python",
   "name": "python",
   "nbconvert_exporter": "python",
   "pygments_lexer": "ipython3",
   "version": "3.8.8"
  },
  "orig_nbformat": 4
 },
 "nbformat": 4,
 "nbformat_minor": 2
}
