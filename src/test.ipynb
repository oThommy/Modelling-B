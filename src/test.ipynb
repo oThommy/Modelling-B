{
 "cells": [
  {
   "cell_type": "code",
   "execution_count": 2,
   "metadata": {},
   "outputs": [
    {
     "name": "stdout",
     "output_type": "stream",
     "text": [
      "              1\n",
      "0              \n",
      "collection    3\n",
      "transfer      1\n",
      "distribution  2\n"
     ]
    }
   ],
   "source": [
    "import pandas as pd\n",
    "\n",
    "df = pd.read_excel(r'./../other/Data assignment parcel transport 2 Small.xlsx', index_col=0, usecols='A:B', header=None) #, sheet_name='General information', header=None\n",
    "# df = pd.DataFrame(data)\n",
    "print(df)"
   ]
  }
 ],
 "metadata": {
  "interpreter": {
   "hash": "d3a7bff9b0ece80a6a4bcaffb870b1f82d9a6c892aab1bd79f7423714be328f3"
  },
  "kernelspec": {
   "display_name": "Python 3.6.6",
   "language": "python",
   "name": "python3"
  },
  "language_info": {
   "codemirror_mode": {
    "name": "ipython",
    "version": 3
   },
   "file_extension": ".py",
   "mimetype": "text/x-python",
   "name": "python",
   "nbconvert_exporter": "python",
   "pygments_lexer": "ipython3",
   "version": "3.6.6"
  },
  "orig_nbformat": 4
 },
 "nbformat": 4,
 "nbformat_minor": 2
}
