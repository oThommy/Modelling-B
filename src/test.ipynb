{
 "cells": [
  {
   "cell_type": "code",
   "execution_count": 3,
   "metadata": {},
   "outputs": [],
   "source": [
    "from integer_linear_problem import Ilp\n",
    "from config import Config\n",
    "import pandas as pd\n",
    "import numpy as np\n",
    "import math\n",
    "import scipy.stats as stats\n",
    "import matplotlib.pyplot as plt\n",
    "import functools\n",
    "import time"
   ]
  },
  {
   "cell_type": "code",
   "execution_count": 4,
   "metadata": {},
   "outputs": [
    {
     "data": {
      "text/plain": [
       "[<matplotlib.lines.Line2D at 0x21cfe915180>]"
      ]
     },
     "execution_count": 4,
     "metadata": {},
     "output_type": "execute_result"
    },
    {
     "data": {
      "image/png": "[encoded data removed]",
      "text/plain": [
       "<Figure size 432x288 with 1 Axes>"
      ]
     },
     "metadata": {
      "needs_background": "light"
     },
     "output_type": "display_data"
    }
   ],
   "source": [
    "a, b = 500, 600\n",
    "mu, sigma = 550, 30\n",
    "dist = stats.truncnorm((a - mu) / sigma, (b - mu) / sigma, loc=mu, scale=sigma)\n",
    "values: np.ndarray = dist.rvs(10000000).astype(int)\n",
    "values.sort()\n",
    "\n",
    "count_arr = np.zeros(10000000)\n",
    "for val in values:\n",
    "    count_arr[val] += 1\n",
    "plt.plot(count_arr[500:600])"
   ]
  },
  {
   "cell_type": "code",
   "execution_count": 9,
   "metadata": {},
   "outputs": [
    {
     "name": "stderr",
     "output_type": "stream",
     "text": [
      "c:\\Users\\Thom van den Hil\\Desktop\\Modelling-B\\venv\\lib\\site-packages\\pulp\\pulp.py:1352: UserWarning: Spaces are not permitted in the name. Converted to '_'\n",
      "  warnings.warn(\"Spaces are not permitted in the name. Converted to '_'\")\n"
     ]
    },
    {
     "name": "stdout",
     "output_type": "stream",
     "text": [
      "The solution is successfully saved to c:\\Users\\Thom van den Hil\\Desktop\\Modelling-B\\src\\out\\algo-performance-ranking\\6-2022-06-08-15-21-30\\1-2022-06-08-15-18-14.\n"
     ]
    },
    {
     "name": "stderr",
     "output_type": "stream",
     "text": [
      "calculating (sub)optimal solution: 100it [00:00, 448.44it/s]                                        \n"
     ]
    },
    {
     "name": "stdout",
     "output_type": "stream",
     "text": [
      "The solution is successfully saved to c:\\Users\\Thom van den Hil\\Desktop\\Modelling-B\\src\\out\\algo-performance-ranking\\6-2022-06-08-15-21-30\\2-2022-06-08-15-18-14.\n",
      "     0\n",
      "7  0.0\n",
      "count    1.0\n",
      "mean     0.0\n",
      "std      NaN\n",
      "min      0.0\n",
      "25%      0.0\n",
      "50%      0.0\n",
      "75%      0.0\n",
      "max      0.0\n",
      "dtype: float64\n",
      "7    0.0\n",
      "dtype: float64\n",
      "count    1.0\n",
      "mean     0.0\n",
      "std      NaN\n",
      "min      0.0\n",
      "25%      0.0\n",
      "50%      0.0\n",
      "75%      0.0\n",
      "max      0.0\n",
      "dtype: float64\n"
     ]
    }
   ],
   "source": [
    "from datetime import datetime\n",
    "import json\n",
    "import os\n",
    "from integer_linear_problem import Ilp\n",
    "from config import Config\n",
    "import pandas as pd\n",
    "import numpy as np\n",
    "import math\n",
    "import scipy.stats as stats\n",
    "import matplotlib.pyplot as plt\n",
    "import ilp_solver\n",
    "from intuitive_algo_2 import intuitive_algo_2\n",
    "from solution import Flags\n",
    "import utils\n",
    "\n",
    "ILP_SMALL = Ilp.from_excel(Config().DATA_SMALL_PATH)\n",
    "ILP_LARGE = Ilp.from_excel(Config().DATA_LARGE_PATH)\n",
    "\n",
    "def gen_ilp(n, w_mu, w_sigma, c_mu, c_sigma, f_mu, f_sigma, collection, transfer, distribution):\n",
    "    w_arr = np.random.normal(loc=w_mu, scale=w_sigma, size=n**2).astype(int)\n",
    "\n",
    "    # ensure all values are >= 0\n",
    "    while any(w_arr < 0):\n",
    "        w_arr[w_arr < 0] = np.random.normal(loc=w_mu, scale=w_sigma, size=sum(w_arr < 0)).astype(int)\n",
    "\n",
    "    w_iter = iter(w_arr)\n",
    "    w_dct = dict()\n",
    "    for i in range(1, n + 1):\n",
    "        w_dct[i] = dict()\n",
    "        for j in range(1, n + 1):\n",
    "            w_dct[i][j] = next(w_iter)\n",
    "\n",
    "    c_arr = np.random.normal(loc=c_mu, scale=c_sigma, size=n**2 - n).astype(int) # FIXME: the mean and standard deviation don't seem to converge to mu and sigma, https://stackoverflow.com/questions/27831923/python-random-number-generator-with-mean-and-standard-deviation\n",
    "\n",
    "    # ensure all values are > 0\n",
    "    # FIXME: this throws the mean and std even more off...\n",
    "    # FIXME: make costs symmetrical\n",
    "    while any(c_arr <= 0):\n",
    "        c_arr[c_arr <= 0] = np.random.normal(loc=c_mu, scale=c_sigma, size=sum(c_arr <= 0)).astype(int)\n",
    "\n",
    "    c_iter = iter(c_arr)\n",
    "    c_dct = dict()\n",
    "    for i in range(1, n + 1):\n",
    "        c_dct[i] = dict()\n",
    "        for j in range(1, n + 1):\n",
    "            if i == j:\n",
    "                c_dct[i][j] = 0\n",
    "            else:\n",
    "                c_dct[i][j] = next(c_iter)\n",
    "\n",
    "    f_arr = np.random.normal(loc=f_mu, scale=f_sigma, size=n).astype(int)\n",
    "\n",
    "    # ensure all values are > 0\n",
    "    while any(f_arr <= 0):\n",
    "        f_arr[f_arr <= 0] = np.random.normal(loc=f_mu, scale=f_sigma, size=sum(f_arr <= 0)).astype(int)\n",
    "\n",
    "    f_iter = iter(f_arr)\n",
    "    f_dct = {i: next(f_iter) for i in range(1, n + 1)}\n",
    "\n",
    "    N = set(range(1, n + 1))\n",
    "    ilp = Ilp(N, collection, transfer, distribution, w_dct, c_dct, f_dct)\n",
    "\n",
    "    return ilp\n",
    "\n",
    "def get_params_nd():\n",
    "\n",
    "\n",
    "    # merge small and large data set (also make them of the same size) and calculate mean and standard deviation seperately for flow, costs and fixed costs\n",
    "    w_small_ser = ILP_SMALL.w_df.stack()\n",
    "    w_large_ser = ILP_LARGE.w_df.stack()\n",
    "    \n",
    "    w_small_ser = pd.concat([w_small_ser] * math.ceil(len(w_large_ser) / len(w_small_ser)))\n",
    "    w_small_ser = w_small_ser[:len(w_large_ser)]\n",
    "\n",
    "    w_ser = pd.concat([w_small_ser, w_large_ser])\n",
    "    w_mu = w_ser.mean()\n",
    "    w_sigma = w_ser.std()\n",
    "\n",
    "    # exclude zeros for mean and std\n",
    "    c_small_ser = ILP_SMALL.c_df.stack()\n",
    "    c_small_ser = c_small_ser[c_small_ser != 0]\n",
    "    c_large_ser = ILP_LARGE.c_df.stack()\n",
    "    c_large_ser = c_large_ser[c_large_ser != 0]\n",
    "\n",
    "    c_small_ser = pd.concat([c_small_ser] * math.ceil(len(c_large_ser) / len(c_small_ser)))\n",
    "    c_small_ser = c_small_ser[:len(c_large_ser)]\n",
    "\n",
    "    c_ser = pd.concat([c_small_ser, c_large_ser])\n",
    "    c_mu = c_ser.mean()\n",
    "    c_sigma = c_ser.std()\n",
    "\n",
    "    f_small_ser = ILP_SMALL.f_ser\n",
    "    f_large_ser = ILP_LARGE.f_ser\n",
    "\n",
    "    f_small_ser = pd.concat([f_small_ser] * math.ceil(len(f_large_ser) / len(f_small_ser)))\n",
    "    f_small_ser = f_small_ser[:len(f_large_ser)]\n",
    "\n",
    "    f_ser: pd.Series = pd.concat([f_small_ser, f_large_ser])\n",
    "    f_mu = f_ser.mean()\n",
    "    f_sigma = f_ser.std()\n",
    "\n",
    "    return w_mu, w_sigma, c_mu, c_sigma, f_mu, f_sigma\n",
    "\n",
    "def rank_algos(min_dataset_n = 10, max_dataset_n = 15, samples = 20):\n",
    "    w_mu, w_sigma, c_mu, c_sigma, f_mu, f_sigma = get_params_nd()\n",
    "\n",
    "    gui_data = []\n",
    "    # calculate and display average error percentage for different sizes n of the data sets # TODO: how to calculate this?\n",
    "    error_df = pd.DataFrame(\n",
    "        np.zeros((max_dataset_n - min_dataset_n + 1, samples)), \n",
    "        index=range(min_dataset_n, max_dataset_n + 1),\n",
    "    )\n",
    "    # TODO: add good logs, good time estimates how long it will take and store the data\n",
    "    # TODO: create folder (in out/algo_rankings or smth) with all solution directories generated by calling rank_algos() once\n",
    "    date = datetime.now()\n",
    "    utils.ensure_dir_exists(Config().ALGO_PERFORMANCE_RANKING_DIR_PATH)\n",
    "    save_id = utils.count_dirs(Config().ALGO_PERFORMANCE_RANKING_DIR_PATH)\n",
    "    algo_dir_path = Config().ALGO_PERFORMANCE_RANKING_DIR_PATH / fr'{save_id}-{utils.get_formatted_date(\"-\", date)}'\n",
    "    counter = 0\n",
    "    for n in range(min_dataset_n, max_dataset_n + 1):\n",
    "        for i in range(samples):\n",
    "            counter += 1\n",
    "\n",
    "            ilp = gen_ilp(n, w_mu, w_sigma, c_mu, c_sigma, f_mu, f_sigma, ILP_SMALL.collection, ILP_SMALL.transfer, ILP_SMALL.distribution)\n",
    "            sol_gurobi = ilp_solver.gurobi_v1(ilp, Flags.VISUALISE | Flags.SAVE, algo_dir_path=algo_dir_path)\n",
    "            sol_heuristic_2 = intuitive_algo_2(ilp, Flags.VISUALISE | Flags.SAVE, algo_dir_path=algo_dir_path)\n",
    "            gui_data.append({\n",
    "                'name': f'Random Dataset {counter}',\n",
    "                'ilpF': ilp.f,\n",
    "                'ilpW': ilp.w,\n",
    "                'ilpC': ilp.c,\n",
    "                'gurobiZ': sol_gurobi.z,\n",
    "                'heuristic2Z': sol_heuristic_2.z,\n",
    "                # FIXME: refactor\n",
    "                'gurobiGraphPath': next(file for file in next(os.walk(sol_gurobi.save_dir_path))[2] if '.html' in file),\n",
    "                'heuristic2GraphPath': next(file for file in next(os.walk(sol_heuristic_2.save_dir_path))[2] if '.html' in file),\n",
    "                'gurobiRuntime': sol_gurobi.timer.total_time,\n",
    "                'heuristic2Runtime': sol_heuristic_2.timer.total_time,\n",
    "            })\n",
    "            error_df.loc[n][i] = (sol_gurobi.z - sol_heuristic_2.z) / sol_heuristic_2.z * 100\n",
    "\n",
    "    print(error_df)\n",
    "    print(error_df.stack().describe())\n",
    "\n",
    "    avg_error_ser = pd.Series(np.zeros((max_dataset_n - min_dataset_n + 1,)), index=range(min_dataset_n, max_dataset_n + 1))\n",
    "    for index, row in error_df.iterrows():\n",
    "        avg_error_ser[index] = row.mean()\n",
    "    print(avg_error_ser)\n",
    "    print(avg_error_ser.describe())\n",
    "    return gui_data\n",
    "    gui_data_path = algo_dir_path / r'guiData.json'\n",
    "    # with open(gui_data_path, 'w') as file:\n",
    "    #     json.dump(gui_data, file)\n",
    "\n",
    "def main() -> None:\n",
    "    return rank_algos(7, 7, 1)\n",
    "\n",
    "\n",
    "gui_data = main()"
   ]
  },
  {
   "cell_type": "code",
   "execution_count": 22,
   "metadata": {},
   "outputs": [
    {
     "name": "stdout",
     "output_type": "stream",
     "text": [
      "23992\n",
      "<class 'numpy.int32'>\n"
     ]
    },
    {
     "ename": "TypeError",
     "evalue": "Object of type int32 is not JSON serializable",
     "output_type": "error",
     "traceback": [
      "\u001b[1;31m---------------------------------------------------------------------------\u001b[0m",
      "\u001b[1;31mTypeError\u001b[0m                                 Traceback (most recent call last)",
      "\u001b[1;32mc:\\Users\\Thom van den Hil\\Desktop\\Modelling-B\\src\\test.ipynb Cell 4'\u001b[0m in \u001b[0;36m<cell line: 10>\u001b[1;34m()\u001b[0m\n\u001b[0;32m      <a href='vscode-notebook-cell:/c%3A/Users/Thom%20van%20den%20Hil/Desktop/Modelling-B/src/test.ipynb#ch0000003?line=8'>9</a>\u001b[0m \u001b[39mprint\u001b[39m(\u001b[39mtype\u001b[39m(\u001b[39mlist\u001b[39m(gui_data[\u001b[39m0\u001b[39m][\u001b[39m'\u001b[39m\u001b[39milpF\u001b[39m\u001b[39m'\u001b[39m]\u001b[39m.\u001b[39mvalues())[\u001b[39m0\u001b[39m]))\n\u001b[0;32m     <a href='vscode-notebook-cell:/c%3A/Users/Thom%20van%20den%20Hil/Desktop/Modelling-B/src/test.ipynb#ch0000003?line=9'>10</a>\u001b[0m \u001b[39mwith\u001b[39;00m \u001b[39mopen\u001b[39m(\u001b[39m'\u001b[39m\u001b[39mTEST_DETELET.JSON\u001b[39m\u001b[39m'\u001b[39m, \u001b[39m'\u001b[39m\u001b[39mw\u001b[39m\u001b[39m'\u001b[39m) \u001b[39mas\u001b[39;00m file:\n\u001b[1;32m---> <a href='vscode-notebook-cell:/c%3A/Users/Thom%20van%20den%20Hil/Desktop/Modelling-B/src/test.ipynb#ch0000003?line=10'>11</a>\u001b[0m     json\u001b[39m.\u001b[39;49mdump(gui_data, file)\n",
      "File \u001b[1;32mC:\\Program Files\\Python310\\lib\\json\\__init__.py:179\u001b[0m, in \u001b[0;36mdump\u001b[1;34m(obj, fp, skipkeys, ensure_ascii, check_circular, allow_nan, cls, indent, separators, default, sort_keys, **kw)\u001b[0m\n\u001b[0;32m    <a href='file:///c%3A/Program%20Files/Python310/lib/json/__init__.py?line=172'>173</a>\u001b[0m     iterable \u001b[39m=\u001b[39m \u001b[39mcls\u001b[39m(skipkeys\u001b[39m=\u001b[39mskipkeys, ensure_ascii\u001b[39m=\u001b[39mensure_ascii,\n\u001b[0;32m    <a href='file:///c%3A/Program%20Files/Python310/lib/json/__init__.py?line=173'>174</a>\u001b[0m         check_circular\u001b[39m=\u001b[39mcheck_circular, allow_nan\u001b[39m=\u001b[39mallow_nan, indent\u001b[39m=\u001b[39mindent,\n\u001b[0;32m    <a href='file:///c%3A/Program%20Files/Python310/lib/json/__init__.py?line=174'>175</a>\u001b[0m         separators\u001b[39m=\u001b[39mseparators,\n\u001b[0;32m    <a href='file:///c%3A/Program%20Files/Python310/lib/json/__init__.py?line=175'>176</a>\u001b[0m         default\u001b[39m=\u001b[39mdefault, sort_keys\u001b[39m=\u001b[39msort_keys, \u001b[39m*\u001b[39m\u001b[39m*\u001b[39mkw)\u001b[39m.\u001b[39miterencode(obj)\n\u001b[0;32m    <a href='file:///c%3A/Program%20Files/Python310/lib/json/__init__.py?line=176'>177</a>\u001b[0m \u001b[39m# could accelerate with writelines in some versions of Python, at\u001b[39;00m\n\u001b[0;32m    <a href='file:///c%3A/Program%20Files/Python310/lib/json/__init__.py?line=177'>178</a>\u001b[0m \u001b[39m# a debuggability cost\u001b[39;00m\n\u001b[1;32m--> <a href='file:///c%3A/Program%20Files/Python310/lib/json/__init__.py?line=178'>179</a>\u001b[0m \u001b[39mfor\u001b[39;00m chunk \u001b[39min\u001b[39;00m iterable:\n\u001b[0;32m    <a href='file:///c%3A/Program%20Files/Python310/lib/json/__init__.py?line=179'>180</a>\u001b[0m     fp\u001b[39m.\u001b[39mwrite(chunk)\n",
      "File \u001b[1;32mC:\\Program Files\\Python310\\lib\\json\\encoder.py:429\u001b[0m, in \u001b[0;36m_make_iterencode.<locals>._iterencode\u001b[1;34m(o, _current_indent_level)\u001b[0m\n\u001b[0;32m    <a href='file:///c%3A/Program%20Files/Python310/lib/json/encoder.py?line=426'>427</a>\u001b[0m     \u001b[39myield\u001b[39;00m _floatstr(o)\n\u001b[0;32m    <a href='file:///c%3A/Program%20Files/Python310/lib/json/encoder.py?line=427'>428</a>\u001b[0m \u001b[39melif\u001b[39;00m \u001b[39misinstance\u001b[39m(o, (\u001b[39mlist\u001b[39m, \u001b[39mtuple\u001b[39m)):\n\u001b[1;32m--> <a href='file:///c%3A/Program%20Files/Python310/lib/json/encoder.py?line=428'>429</a>\u001b[0m     \u001b[39myield from\u001b[39;00m _iterencode_list(o, _current_indent_level)\n\u001b[0;32m    <a href='file:///c%3A/Program%20Files/Python310/lib/json/encoder.py?line=429'>430</a>\u001b[0m \u001b[39melif\u001b[39;00m \u001b[39misinstance\u001b[39m(o, \u001b[39mdict\u001b[39m):\n\u001b[0;32m    <a href='file:///c%3A/Program%20Files/Python310/lib/json/encoder.py?line=430'>431</a>\u001b[0m     \u001b[39myield from\u001b[39;00m _iterencode_dict(o, _current_indent_level)\n",
      "File \u001b[1;32mC:\\Program Files\\Python310\\lib\\json\\encoder.py:325\u001b[0m, in \u001b[0;36m_make_iterencode.<locals>._iterencode_list\u001b[1;34m(lst, _current_indent_level)\u001b[0m\n\u001b[0;32m    <a href='file:///c%3A/Program%20Files/Python310/lib/json/encoder.py?line=322'>323</a>\u001b[0m         \u001b[39melse\u001b[39;00m:\n\u001b[0;32m    <a href='file:///c%3A/Program%20Files/Python310/lib/json/encoder.py?line=323'>324</a>\u001b[0m             chunks \u001b[39m=\u001b[39m _iterencode(value, _current_indent_level)\n\u001b[1;32m--> <a href='file:///c%3A/Program%20Files/Python310/lib/json/encoder.py?line=324'>325</a>\u001b[0m         \u001b[39myield from\u001b[39;00m chunks\n\u001b[0;32m    <a href='file:///c%3A/Program%20Files/Python310/lib/json/encoder.py?line=325'>326</a>\u001b[0m \u001b[39mif\u001b[39;00m newline_indent \u001b[39mis\u001b[39;00m \u001b[39mnot\u001b[39;00m \u001b[39mNone\u001b[39;00m:\n\u001b[0;32m    <a href='file:///c%3A/Program%20Files/Python310/lib/json/encoder.py?line=326'>327</a>\u001b[0m     _current_indent_level \u001b[39m-\u001b[39m\u001b[39m=\u001b[39m \u001b[39m1\u001b[39m\n",
      "File \u001b[1;32mC:\\Program Files\\Python310\\lib\\json\\encoder.py:405\u001b[0m, in \u001b[0;36m_make_iterencode.<locals>._iterencode_dict\u001b[1;34m(dct, _current_indent_level)\u001b[0m\n\u001b[0;32m    <a href='file:///c%3A/Program%20Files/Python310/lib/json/encoder.py?line=402'>403</a>\u001b[0m         \u001b[39melse\u001b[39;00m:\n\u001b[0;32m    <a href='file:///c%3A/Program%20Files/Python310/lib/json/encoder.py?line=403'>404</a>\u001b[0m             chunks \u001b[39m=\u001b[39m _iterencode(value, _current_indent_level)\n\u001b[1;32m--> <a href='file:///c%3A/Program%20Files/Python310/lib/json/encoder.py?line=404'>405</a>\u001b[0m         \u001b[39myield from\u001b[39;00m chunks\n\u001b[0;32m    <a href='file:///c%3A/Program%20Files/Python310/lib/json/encoder.py?line=405'>406</a>\u001b[0m \u001b[39mif\u001b[39;00m newline_indent \u001b[39mis\u001b[39;00m \u001b[39mnot\u001b[39;00m \u001b[39mNone\u001b[39;00m:\n\u001b[0;32m    <a href='file:///c%3A/Program%20Files/Python310/lib/json/encoder.py?line=406'>407</a>\u001b[0m     _current_indent_level \u001b[39m-\u001b[39m\u001b[39m=\u001b[39m \u001b[39m1\u001b[39m\n",
      "File \u001b[1;32mC:\\Program Files\\Python310\\lib\\json\\encoder.py:405\u001b[0m, in \u001b[0;36m_make_iterencode.<locals>._iterencode_dict\u001b[1;34m(dct, _current_indent_level)\u001b[0m\n\u001b[0;32m    <a href='file:///c%3A/Program%20Files/Python310/lib/json/encoder.py?line=402'>403</a>\u001b[0m         \u001b[39melse\u001b[39;00m:\n\u001b[0;32m    <a href='file:///c%3A/Program%20Files/Python310/lib/json/encoder.py?line=403'>404</a>\u001b[0m             chunks \u001b[39m=\u001b[39m _iterencode(value, _current_indent_level)\n\u001b[1;32m--> <a href='file:///c%3A/Program%20Files/Python310/lib/json/encoder.py?line=404'>405</a>\u001b[0m         \u001b[39myield from\u001b[39;00m chunks\n\u001b[0;32m    <a href='file:///c%3A/Program%20Files/Python310/lib/json/encoder.py?line=405'>406</a>\u001b[0m \u001b[39mif\u001b[39;00m newline_indent \u001b[39mis\u001b[39;00m \u001b[39mnot\u001b[39;00m \u001b[39mNone\u001b[39;00m:\n\u001b[0;32m    <a href='file:///c%3A/Program%20Files/Python310/lib/json/encoder.py?line=406'>407</a>\u001b[0m     _current_indent_level \u001b[39m-\u001b[39m\u001b[39m=\u001b[39m \u001b[39m1\u001b[39m\n",
      "File \u001b[1;32mC:\\Program Files\\Python310\\lib\\json\\encoder.py:438\u001b[0m, in \u001b[0;36m_make_iterencode.<locals>._iterencode\u001b[1;34m(o, _current_indent_level)\u001b[0m\n\u001b[0;32m    <a href='file:///c%3A/Program%20Files/Python310/lib/json/encoder.py?line=435'>436</a>\u001b[0m         \u001b[39mraise\u001b[39;00m \u001b[39mValueError\u001b[39;00m(\u001b[39m\"\u001b[39m\u001b[39mCircular reference detected\u001b[39m\u001b[39m\"\u001b[39m)\n\u001b[0;32m    <a href='file:///c%3A/Program%20Files/Python310/lib/json/encoder.py?line=436'>437</a>\u001b[0m     markers[markerid] \u001b[39m=\u001b[39m o\n\u001b[1;32m--> <a href='file:///c%3A/Program%20Files/Python310/lib/json/encoder.py?line=437'>438</a>\u001b[0m o \u001b[39m=\u001b[39m _default(o)\n\u001b[0;32m    <a href='file:///c%3A/Program%20Files/Python310/lib/json/encoder.py?line=438'>439</a>\u001b[0m \u001b[39myield from\u001b[39;00m _iterencode(o, _current_indent_level)\n\u001b[0;32m    <a href='file:///c%3A/Program%20Files/Python310/lib/json/encoder.py?line=439'>440</a>\u001b[0m \u001b[39mif\u001b[39;00m markers \u001b[39mis\u001b[39;00m \u001b[39mnot\u001b[39;00m \u001b[39mNone\u001b[39;00m:\n",
      "File \u001b[1;32mC:\\Program Files\\Python310\\lib\\json\\encoder.py:179\u001b[0m, in \u001b[0;36mJSONEncoder.default\u001b[1;34m(self, o)\u001b[0m\n\u001b[0;32m    <a href='file:///c%3A/Program%20Files/Python310/lib/json/encoder.py?line=159'>160</a>\u001b[0m \u001b[39mdef\u001b[39;00m \u001b[39mdefault\u001b[39m(\u001b[39mself\u001b[39m, o):\n\u001b[0;32m    <a href='file:///c%3A/Program%20Files/Python310/lib/json/encoder.py?line=160'>161</a>\u001b[0m     \u001b[39m\"\"\"Implement this method in a subclass such that it returns\u001b[39;00m\n\u001b[0;32m    <a href='file:///c%3A/Program%20Files/Python310/lib/json/encoder.py?line=161'>162</a>\u001b[0m \u001b[39m    a serializable object for ``o``, or calls the base implementation\u001b[39;00m\n\u001b[0;32m    <a href='file:///c%3A/Program%20Files/Python310/lib/json/encoder.py?line=162'>163</a>\u001b[0m \u001b[39m    (to raise a ``TypeError``).\u001b[39;00m\n\u001b[1;32m   (...)\u001b[0m\n\u001b[0;32m    <a href='file:///c%3A/Program%20Files/Python310/lib/json/encoder.py?line=176'>177</a>\u001b[0m \n\u001b[0;32m    <a href='file:///c%3A/Program%20Files/Python310/lib/json/encoder.py?line=177'>178</a>\u001b[0m \u001b[39m    \"\"\"\u001b[39;00m\n\u001b[1;32m--> <a href='file:///c%3A/Program%20Files/Python310/lib/json/encoder.py?line=178'>179</a>\u001b[0m     \u001b[39mraise\u001b[39;00m \u001b[39mTypeError\u001b[39;00m(\u001b[39mf\u001b[39m\u001b[39m'\u001b[39m\u001b[39mObject of type \u001b[39m\u001b[39m{\u001b[39;00mo\u001b[39m.\u001b[39m\u001b[39m__class__\u001b[39m\u001b[39m.\u001b[39m\u001b[39m__name__\u001b[39m\u001b[39m}\u001b[39;00m\u001b[39m \u001b[39m\u001b[39m'\u001b[39m\n\u001b[0;32m    <a href='file:///c%3A/Program%20Files/Python310/lib/json/encoder.py?line=179'>180</a>\u001b[0m                     \u001b[39mf\u001b[39m\u001b[39m'\u001b[39m\u001b[39mis not JSON serializable\u001b[39m\u001b[39m'\u001b[39m)\n",
      "\u001b[1;31mTypeError\u001b[0m: Object of type int32 is not JSON serializable"
     ]
    }
   ],
   "source": [
    "# print(gui_data)\n",
    "for index, item in enumerate(gui_data):\n",
    "    for key, val in item.items():\n",
    "        if val not in ('ilpF', 'ilpW', 'ilpC'):\n",
    "            continue\n",
    "        gui_data[index][key] = utils.dict_dtypes_to_int(item)\n",
    "\n",
    "print(list(gui_data[0]['ilpF'].values())[0])\n",
    "print(type(list(gui_data[0]['ilpF'].values())[0]))\n",
    "with open('TEST_DETELET.JSON', 'w') as file:\n",
    "    json.dump(gui_data, file)"
   ]
  },
  {
   "cell_type": "code",
   "execution_count": 27,
   "metadata": {},
   "outputs": [
    {
     "name": "stdout",
     "output_type": "stream",
     "text": [
      "{1: {1: 0, 2: 20, 3: 16, 4: 23, 5: 23, 6: 30, 7: 32, 8: 33, 9: 36, 10: 36}, 2: {1: 20, 2: 0, 3: 20, 4: 13, 5: 25, 6: 19, 7: 30, 8: 25, 9: 38, 10: 31}, 3: {1: 16, 2: 20, 3: 0, 4: 14, 5: 7, 6: 19, 7: 16, 8: 18, 9: 21, 10: 21}, 4: {1: 23, 2: 13, 3: 14, 4: 0, 5: 14, 6: 7, 7: 18, 8: 13, 9: 27, 10: 18}, 5: {1: 23, 2: 25, 3: 7, 4: 14, 5: 0, 6: 16, 7: 9, 8: 13, 9: 14, 10: 14}, 6: {1: 30, 2: 19, 3: 19, 4: 7, 5: 16, 6: 0, 7: 16, 8: 8, 9: 25, 10: 13}, 7: {1: 32, 2: 30, 3: 16, 4: 18, 5: 9, 6: 16, 7: 0, 8: 9, 9: 10, 10: 7}, 8: {1: 33, 2: 25, 3: 18, 4: 13, 5: 13, 6: 8, 7: 9, 8: 0, 9: 18, 10: 5}, 9: {1: 36, 2: 38, 3: 21, 4: 27, 5: 14, 6: 25, 7: 10, 8: 18, 9: 0, 10: 14}, 10: {1: 36, 2: 31, 3: 21, 4: 18, 5: 14, 6: 13, 7: 7, 8: 5, 9: 14, 10: 0}}\n"
     ]
    }
   ],
   "source": [
    "ilp = Ilp.from_excel(Config().DATA_SMALL_PATH)\n",
    "print(ilp.c_df.to_dict())\n",
    "with open('TEST_DETELET.JSON', 'w') as file:\n",
    "    json.dump(ilp.c_df.to_dict(), file)"
   ]
  }
 ],
 "metadata": {
  "interpreter": {
   "hash": "ad25d3ef1faf7c1494f2d5509b3025098883cccac44e0e3e4d03a1bdd8247abb"
  },
  "kernelspec": {
   "display_name": "Python 3.10.4 ('venv': venv)",
   "language": "python",
   "name": "python3"
  },
  "language_info": {
   "codemirror_mode": {
    "name": "ipython",
    "version": 3
   },
   "file_extension": ".py",
   "mimetype": "text/x-python",
   "name": "python",
   "nbconvert_exporter": "python",
   "pygments_lexer": "ipython3",
   "version": "3.10.4"
  },
  "orig_nbformat": 4
 },
 "nbformat": 4,
 "nbformat_minor": 2
}
