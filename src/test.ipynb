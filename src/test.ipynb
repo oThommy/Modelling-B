{
 "cells": [
  {
   "cell_type": "code",
   "execution_count": 3,
   "metadata": {},
   "outputs": [
    {
     "name": "stdout",
     "output_type": "stream",
     "text": [
      "\n"
     ]
    },
    {
     "data": {
      "text/html": [
       "\n",
       "        <iframe\n",
       "            width=\"500px\"\n",
       "            height=\"500px\"\n",
       "            src=\"example.html\"\n",
       "            frameborder=\"0\"\n",
       "            allowfullscreen\n",
       "        ></iframe>\n",
       "        "
      ],
      "text/plain": [
       "<IPython.lib.display.IFrame at 0x21a87928490>"
      ]
     },
     "execution_count": 3,
     "metadata": {},
     "output_type": "execute_result"
    }
   ],
   "source": [
    "\n",
    "from pyvis.network import Network\n",
    "import networkx as nx\n",
    "\n",
    "g = Network(notebook=True)\n",
    "\n",
    "# g.add_nodes([1,2,3], value=[10, 100, 400],\n",
    "#                          title=['I am node 1', 'node 2 here', 'and im node 3'],\n",
    "#                          x=[21.4, 54.2, 11.2],\n",
    "#                          y=[100.2, 23.54, 32.1],\n",
    "#                          label=['NODE 1', 'NODE 2', 'NODE 3'],\n",
    "#                          color=['#00ff1e', '#162347', '#dd4b39'])\n",
    "\n",
    "# g.toggle_physics(True)\n",
    "# g.show('mygraph.html')\n",
    "\n",
    "nxg = nx.complete_graph(10)\n",
    "print(nxg)\n",
    "g.from_nx(nxg)\n",
    "g.show('example.html')"
   ]
  }
 ],
 "metadata": {
  "interpreter": {
   "hash": "d3a7bff9b0ece80a6a4bcaffb870b1f82d9a6c892aab1bd79f7423714be328f3"
  },
  "kernelspec": {
   "display_name": "Python 3.6.6",
   "language": "python",
   "name": "python3"
  },
  "language_info": {
   "codemirror_mode": {
    "name": "ipython",
    "version": 3
   },
   "file_extension": ".py",
   "mimetype": "text/x-python",
   "name": "python",
   "nbconvert_exporter": "python",
   "pygments_lexer": "ipython3",
   "version": "3.8.8"
  },
  "orig_nbformat": 4
 },
 "nbformat": 4,
 "nbformat_minor": 2
}
